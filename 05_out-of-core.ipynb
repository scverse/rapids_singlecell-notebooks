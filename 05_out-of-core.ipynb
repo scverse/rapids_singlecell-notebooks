{
 "cells": [
  {
   "cell_type": "markdown",
   "id": "79e4dac4",
   "metadata": {},
   "source": [
    "# **Out-of-Core Single-Cell Analysis with RAPIDS-SingleCell & Dask**  \n",
    "**Author:** [Severin Dicks](https://github.com/Intron7)\n",
    "**Copyright** [scverse](https://scverse.org)\n",
    "\n",
    "In this notebook, we demonstrate the **out-of-core computation** capabilities of **rapids-singlecell** using **Dask**.  \n",
    "This approach allows us to analyze **1.3 million cells** efficiently, even on relatively small hardware.  \n",
    "\n",
    "By leveraging **Dask**, we can:  \n",
    "- **Process large-scale single-cell datasets** without exceeding memory limits.  \n",
    "- **Enable chunk-based execution**, loading only the necessary data into memory at any time.  \n",
    "\n",
    "This method makes **large-scale single-cell analysis feasible** on standard hardware setups,  \n",
    "removing barriers to working with massive datasets.\n"
   ]
  },
  {
   "cell_type": "code",
   "execution_count": 1,
   "id": "37588552-b9d5-4113-9f53-ecc63d3da815",
   "metadata": {
    "tags": []
   },
   "outputs": [],
   "source": [
    "import dask\n",
    "import time\n",
    "\n",
    "\n",
    "from dask_cuda import LocalCUDACluster\n",
    "from dask.distributed import Client"
   ]
  },
  {
   "cell_type": "code",
   "execution_count": 2,
   "id": "2f159c97-e435-40c5-ac7b-aa37a6812ced",
   "metadata": {
    "tags": []
   },
   "outputs": [],
   "source": [
    "import rmm\n",
    "import cupy as cp\n",
    "\n",
    "from rmm.allocators.cupy import rmm_cupy_allocator"
   ]
  },
  {
   "cell_type": "markdown",
   "id": "a81da4d7",
   "metadata": {},
   "source": [
    "## **Initializing a Dask Cluster for Out-of-Core Computation**  \n",
    "\n",
    "To enable **out-of-core computation** and parallel processing,  \n",
    "we initialize a **Dask CUDA cluster**, which distributes computations across available GPU resource.  \n",
    "\n",
    "We create a **local GPU cluster** with the following configuration:  \n"
   ]
  },
  {
   "cell_type": "code",
   "execution_count": 3,
   "id": "79faf22b-629e-43d6-a762-02dd1fa2e65c",
   "metadata": {
    "tags": []
   },
   "outputs": [
    {
     "name": "stdout",
     "output_type": "stream",
     "text": [
      "CPU times: user 467 ms, sys: 227 ms, total: 694 ms\n",
      "Wall time: 9.88 s\n"
     ]
    },
    {
     "data": {
      "text/html": [
       "<div>\n",
       "    <div style=\"width: 24px; height: 24px; background-color: #e1e1e1; border: 3px solid #9D9D9D; border-radius: 5px; position: absolute;\"> </div>\n",
       "    <div style=\"margin-left: 48px;\">\n",
       "        <h3 style=\"margin-bottom: 0px;\">Client</h3>\n",
       "        <p style=\"color: #9D9D9D; margin-bottom: 0px;\">Client-026ba3f3-f297-11ef-9917-4a4018f16a38</p>\n",
       "        <table style=\"width: 100%; text-align: left;\">\n",
       "\n",
       "        <tr>\n",
       "        \n",
       "            <td style=\"text-align: left;\"><strong>Connection method:</strong> Cluster object</td>\n",
       "            <td style=\"text-align: left;\"><strong>Cluster type:</strong> dask_cuda.LocalCUDACluster</td>\n",
       "        \n",
       "        </tr>\n",
       "\n",
       "        \n",
       "            <tr>\n",
       "                <td style=\"text-align: left;\">\n",
       "                    <strong>Dashboard: </strong> <a href=\"http://127.0.0.1:8787/status\" target=\"_blank\">http://127.0.0.1:8787/status</a>\n",
       "                </td>\n",
       "                <td style=\"text-align: left;\"></td>\n",
       "            </tr>\n",
       "        \n",
       "\n",
       "        </table>\n",
       "\n",
       "        \n",
       "            <button style=\"margin-bottom: 12px;\" data-commandlinker-command=\"dask:populate-and-launch-layout\" data-commandlinker-args='{\"url\": \"http://127.0.0.1:8787/status\" }'>\n",
       "                Launch dashboard in JupyterLab\n",
       "            </button>\n",
       "        \n",
       "\n",
       "        \n",
       "            <details>\n",
       "            <summary style=\"margin-bottom: 20px;\"><h3 style=\"display: inline;\">Cluster Info</h3></summary>\n",
       "            <div class=\"jp-RenderedHTMLCommon jp-RenderedHTML jp-mod-trusted jp-OutputArea-output\">\n",
       "    <div style=\"width: 24px; height: 24px; background-color: #e1e1e1; border: 3px solid #9D9D9D; border-radius: 5px; position: absolute;\">\n",
       "    </div>\n",
       "    <div style=\"margin-left: 48px;\">\n",
       "        <h3 style=\"margin-bottom: 0px; margin-top: 0px;\">LocalCUDACluster</h3>\n",
       "        <p style=\"color: #9D9D9D; margin-bottom: 0px;\">eac5f571</p>\n",
       "        <table style=\"width: 100%; text-align: left;\">\n",
       "            <tr>\n",
       "                <td style=\"text-align: left;\">\n",
       "                    <strong>Dashboard:</strong> <a href=\"http://127.0.0.1:8787/status\" target=\"_blank\">http://127.0.0.1:8787/status</a>\n",
       "                </td>\n",
       "                <td style=\"text-align: left;\">\n",
       "                    <strong>Workers:</strong> 1\n",
       "                </td>\n",
       "            </tr>\n",
       "            <tr>\n",
       "                <td style=\"text-align: left;\">\n",
       "                    <strong>Total threads:</strong> 30\n",
       "                </td>\n",
       "                <td style=\"text-align: left;\">\n",
       "                    <strong>Total memory:</strong> 1.75 TiB\n",
       "                </td>\n",
       "            </tr>\n",
       "            \n",
       "            <tr>\n",
       "    <td style=\"text-align: left;\"><strong>Status:</strong> running</td>\n",
       "    <td style=\"text-align: left;\"><strong>Using processes:</strong> True</td>\n",
       "</tr>\n",
       "\n",
       "            \n",
       "        </table>\n",
       "\n",
       "        <details>\n",
       "            <summary style=\"margin-bottom: 20px;\">\n",
       "                <h3 style=\"display: inline;\">Scheduler Info</h3>\n",
       "            </summary>\n",
       "\n",
       "            <div style=\"\">\n",
       "    <div>\n",
       "        <div style=\"width: 24px; height: 24px; background-color: #FFF7E5; border: 3px solid #FF6132; border-radius: 5px; position: absolute;\"> </div>\n",
       "        <div style=\"margin-left: 48px;\">\n",
       "            <h3 style=\"margin-bottom: 0px;\">Scheduler</h3>\n",
       "            <p style=\"color: #9D9D9D; margin-bottom: 0px;\">Scheduler-dcff23f7-5cd0-4f16-a96b-47b66729606c</p>\n",
       "            <table style=\"width: 100%; text-align: left;\">\n",
       "                <tr>\n",
       "                    <td style=\"text-align: left;\">\n",
       "                        <strong>Comm:</strong> tcp://127.0.0.1:35555\n",
       "                    </td>\n",
       "                    <td style=\"text-align: left;\">\n",
       "                        <strong>Workers:</strong> 1\n",
       "                    </td>\n",
       "                </tr>\n",
       "                <tr>\n",
       "                    <td style=\"text-align: left;\">\n",
       "                        <strong>Dashboard:</strong> <a href=\"http://127.0.0.1:8787/status\" target=\"_blank\">http://127.0.0.1:8787/status</a>\n",
       "                    </td>\n",
       "                    <td style=\"text-align: left;\">\n",
       "                        <strong>Total threads:</strong> 30\n",
       "                    </td>\n",
       "                </tr>\n",
       "                <tr>\n",
       "                    <td style=\"text-align: left;\">\n",
       "                        <strong>Started:</strong> Just now\n",
       "                    </td>\n",
       "                    <td style=\"text-align: left;\">\n",
       "                        <strong>Total memory:</strong> 1.75 TiB\n",
       "                    </td>\n",
       "                </tr>\n",
       "            </table>\n",
       "        </div>\n",
       "    </div>\n",
       "\n",
       "    <details style=\"margin-left: 48px;\">\n",
       "        <summary style=\"margin-bottom: 20px;\">\n",
       "            <h3 style=\"display: inline;\">Workers</h3>\n",
       "        </summary>\n",
       "\n",
       "        \n",
       "        <div style=\"margin-bottom: 20px;\">\n",
       "            <div style=\"width: 24px; height: 24px; background-color: #DBF5FF; border: 3px solid #4CC9FF; border-radius: 5px; position: absolute;\"> </div>\n",
       "            <div style=\"margin-left: 48px;\">\n",
       "            <details>\n",
       "                <summary>\n",
       "                    <h4 style=\"margin-bottom: 0px; display: inline;\">Worker: 0</h4>\n",
       "                </summary>\n",
       "                <table style=\"width: 100%; text-align: left;\">\n",
       "                    <tr>\n",
       "                        <td style=\"text-align: left;\">\n",
       "                            <strong>Comm: </strong> tcp://127.0.0.1:36547\n",
       "                        </td>\n",
       "                        <td style=\"text-align: left;\">\n",
       "                            <strong>Total threads: </strong> 30\n",
       "                        </td>\n",
       "                    </tr>\n",
       "                    <tr>\n",
       "                        <td style=\"text-align: left;\">\n",
       "                            <strong>Dashboard: </strong> <a href=\"http://127.0.0.1:37197/status\" target=\"_blank\">http://127.0.0.1:37197/status</a>\n",
       "                        </td>\n",
       "                        <td style=\"text-align: left;\">\n",
       "                            <strong>Memory: </strong> 1.75 TiB\n",
       "                        </td>\n",
       "                    </tr>\n",
       "                    <tr>\n",
       "                        <td style=\"text-align: left;\">\n",
       "                            <strong>Nanny: </strong> tcp://127.0.0.1:43151\n",
       "                        </td>\n",
       "                        <td style=\"text-align: left;\"></td>\n",
       "                    </tr>\n",
       "                    <tr>\n",
       "                        <td colspan=\"2\" style=\"text-align: left;\">\n",
       "                            <strong>Local directory: </strong> /tmp/dask-scratch-space/worker-ft3wyrvi\n",
       "                        </td>\n",
       "                    </tr>\n",
       "\n",
       "                    \n",
       "\n",
       "                    \n",
       "\n",
       "                </table>\n",
       "            </details>\n",
       "            </div>\n",
       "        </div>\n",
       "        \n",
       "\n",
       "    </details>\n",
       "</div>\n",
       "\n",
       "        </details>\n",
       "    </div>\n",
       "</div>\n",
       "            </details>\n",
       "        \n",
       "\n",
       "    </div>\n",
       "</div>"
      ],
      "text/plain": [
       "<Client: 'tcp://127.0.0.1:35555' processes=1 threads=30, memory=1.75 TiB>"
      ]
     },
     "execution_count": 3,
     "metadata": {},
     "output_type": "execute_result"
    }
   ],
   "source": [
    "%%time\n",
    "cluster = LocalCUDACluster(CUDA_VISIBLE_DEVICES=\"0\", threads_per_worker=30)\n",
    "\n",
    "client = Client(cluster)\n",
    "\n",
    "client"
   ]
  },
  {
   "cell_type": "code",
   "execution_count": 4,
   "id": "b4ac3268-f54b-40c6-9f56-6f0d942c6753",
   "metadata": {
    "tags": []
   },
   "outputs": [],
   "source": [
    "import rapids_singlecell as rsc\n",
    "import anndata as ad"
   ]
  },
  {
   "cell_type": "markdown",
   "id": "5b94f7c9",
   "metadata": {},
   "source": [
    "## **Loading Large Datasets into AnnData with Dask**  \n",
    "\n",
    "To efficiently handle large-scale single-cell datasets, we load data directly from an **HDF5 (`h5`) or Zarr file**  \n",
    "into an **AnnData object** using **Dask arrays**. This enables **lazy loading**, allowing data to be processed in chunks  \n",
    "without exceeding memory limits.  \n",
    "\n",
    "We achieve this using **`read_elem_as_dask`**, which loads the expression matrix (`X`) as a **Dask array**"
   ]
  },
  {
   "cell_type": "code",
   "execution_count": 5,
   "id": "3fc9a948-80ea-457f-8ded-151505a23418",
   "metadata": {
    "scrolled": true,
    "tags": []
   },
   "outputs": [
    {
     "name": "stderr",
     "output_type": "stream",
     "text": [
      "/opt/conda/lib/python3.12/site-packages/anndata/_core/anndata.py:1758: UserWarning: Variable names are not unique. To make them unique, call `.var_names_make_unique`.\n",
      "  utils.warn_names_duplicates(\"var\")\n"
     ]
    }
   ],
   "source": [
    "from anndata.experimental import read_elem_as_dask\n",
    "\n",
    "import zarr\n",
    "\n",
    "SPARSE_CHUNK_SIZE = 20_000\n",
    "#data_pth = \"zarr/cell_atlas.zarr\" #11Million Cells\n",
    "data_pth = \"zarr/nvidia_1.3M.zarr\" #1.3Million Cells\n",
    "\n",
    "f = zarr.open(data_pth)\n",
    "X = f[\"X\"]\n",
    "shape = X.attrs[\"shape\"]\n",
    "adata = ad.AnnData(\n",
    "    X = read_elem_as_dask(X, (SPARSE_CHUNK_SIZE, shape[1])),\n",
    "    obs = ad.io.read_elem(f[\"obs\"]),\n",
    "    var = ad.io.read_elem(f[\"var\"])\n",
    ")\n",
    "\n"
   ]
  },
  {
   "cell_type": "markdown",
   "id": "e8246527-1102-4747-b328-939800567142",
   "metadata": {},
   "source": [
    "## **Transferring AnnData to GPU for Accelerated Computation**  \n",
    "\n",
    "Once the dataset is loaded as a **Dask-backed AnnData object**,  \n",
    "we transfer it to the **GPU** to leverage **RAPIDS-SingleCell’s** accelerated processing.  \n",
    "\n",
    "We use **`rsc.get.anndata_to_GPU()`**, which efficiently moves the AnnData object to GPU memory:  \n"
   ]
  },
  {
   "cell_type": "code",
   "execution_count": 6,
   "id": "114352ef-3262-4103-a1a5-f9b33b712656",
   "metadata": {},
   "outputs": [],
   "source": [
    "rsc.get.anndata_to_GPU(adata)"
   ]
  },
  {
   "cell_type": "markdown",
   "id": "0c03b477-7b57-4ba9-895f-78c0a1ead5ff",
   "metadata": {},
   "source": [
    "## **Quality Control (QC) Metrics Calculation (Requires Synchronization)**  \n",
    "\n",
    "Before proceeding with further analysis, we compute **quality control (QC) metrics**  \n",
    "to assess dataset quality and filter out low-quality cells or genes.  \n",
    "\n",
    "We use **`rsc.pp.calculate_qc_metrics()`** to calculate key QC metrics\n",
    "\n",
    "Although we are working with Dask-backed AnnData, this operation requires a synchronization step.\n",
    "This means that Dask computations must be evaluated immediately,\n",
    "so the process is not completely lazy like other out-of-core operations."
   ]
  },
  {
   "cell_type": "code",
   "execution_count": 8,
   "id": "4f4f2b47-d363-40c1-b168-cff95b084358",
   "metadata": {
    "tags": []
   },
   "outputs": [
    {
     "name": "stdout",
     "output_type": "stream",
     "text": [
      "CPU times: user 681 ms, sys: 187 ms, total: 868 ms\n",
      "Wall time: 26 s\n"
     ]
    }
   ],
   "source": [
    "%%time\n",
    "rsc.pp.calculate_qc_metrics(adata)"
   ]
  },
  {
   "cell_type": "markdown",
   "id": "22daf379-e37e-46ed-91d8-53dbb6bc0563",
   "metadata": {},
   "source": [
    "## **Filtering Cells and Genes Without Additional Computation**  \n",
    "\n",
    "Instead of using **`sc.pp.filter_cells`** and **`sc.pp.filter_genes`**,  \n",
    "we apply filtering directly using boolean indexing to **avoid extra computation**.\n",
    "\n",
    "**Why Use Direct Indexing Instead of Built-in Functions?**\n",
    "* More Efficient with Dask → Avoids triggering additional computations.\n",
    "* Preserves Lazy Execution → Filtering is applied without forcing full dataset evaluation.\n",
    "* Copy is Essential → Using `.copy()` prevents views, which may not work reliably with Dask-backed AnnData."
   ]
  },
  {
   "cell_type": "code",
   "execution_count": 9,
   "id": "d7f90ad3-52ac-47da-8840-ccf9db43c6ad",
   "metadata": {},
   "outputs": [
    {
     "name": "stderr",
     "output_type": "stream",
     "text": [
      "/opt/conda/lib/python3.12/site-packages/anndata/_core/anndata.py:1758: UserWarning: Variable names are not unique. To make them unique, call `.var_names_make_unique`.\n",
      "  utils.warn_names_duplicates(\"var\")\n"
     ]
    }
   ],
   "source": [
    "adata = adata[(adata.obs[\"n_genes_by_counts\"]<=10000) \n",
    "            & (adata.obs[\"n_genes_by_counts\"]>=200)].copy()"
   ]
  },
  {
   "cell_type": "code",
   "execution_count": 10,
   "id": "299580e9-44a9-41c5-bfe2-570ddd61ce7d",
   "metadata": {},
   "outputs": [
    {
     "data": {
      "text/html": [
       "<table>\n",
       "    <tr>\n",
       "        <td>\n",
       "            <table style=\"border-collapse: collapse;\">\n",
       "                <thead>\n",
       "                    <tr>\n",
       "                        <td> </td>\n",
       "                        <th> Array </th>\n",
       "                        <th> Chunk </th>\n",
       "                    </tr>\n",
       "                </thead>\n",
       "                <tbody>\n",
       "                    \n",
       "                    <tr>\n",
       "                        <th> Shape </th>\n",
       "                        <td> (1292537, 27998) </td>\n",
       "                        <td> (19789, 27998) </td>\n",
       "                    </tr>\n",
       "                    <tr>\n",
       "                        <th> Dask graph </th>\n",
       "                        <td colspan=\"2\"> 66 chunks in 2 graph layers </td>\n",
       "                    </tr>\n",
       "                    <tr>\n",
       "                        <th> Data type </th>\n",
       "                        <td colspan=\"2\"> float32 cupyx.scipy.sparse._csr.csr_matrix </td>\n",
       "                    </tr>\n",
       "                </tbody>\n",
       "            </table>\n",
       "        </td>\n",
       "        <td>\n",
       "        <svg width=\"79\" height=\"170\" style=\"stroke:rgb(0,0,0);stroke-width:1\" >\n",
       "\n",
       "  <!-- Horizontal lines -->\n",
       "  <line x1=\"0\" y1=\"0\" x2=\"29\" y2=\"0\" style=\"stroke-width:2\" />\n",
       "  <line x1=\"0\" y1=\"5\" x2=\"29\" y2=\"5\" />\n",
       "  <line x1=\"0\" y1=\"11\" x2=\"29\" y2=\"11\" />\n",
       "  <line x1=\"0\" y1=\"18\" x2=\"29\" y2=\"18\" />\n",
       "  <line x1=\"0\" y1=\"23\" x2=\"29\" y2=\"23\" />\n",
       "  <line x1=\"0\" y1=\"31\" x2=\"29\" y2=\"31\" />\n",
       "  <line x1=\"0\" y1=\"36\" x2=\"29\" y2=\"36\" />\n",
       "  <line x1=\"0\" y1=\"44\" x2=\"29\" y2=\"44\" />\n",
       "  <line x1=\"0\" y1=\"49\" x2=\"29\" y2=\"49\" />\n",
       "  <line x1=\"0\" y1=\"56\" x2=\"29\" y2=\"56\" />\n",
       "  <line x1=\"0\" y1=\"62\" x2=\"29\" y2=\"62\" />\n",
       "  <line x1=\"0\" y1=\"69\" x2=\"29\" y2=\"69\" />\n",
       "  <line x1=\"0\" y1=\"75\" x2=\"29\" y2=\"75\" />\n",
       "  <line x1=\"0\" y1=\"82\" x2=\"29\" y2=\"82\" />\n",
       "  <line x1=\"0\" y1=\"88\" x2=\"29\" y2=\"88\" />\n",
       "  <line x1=\"0\" y1=\"95\" x2=\"29\" y2=\"95\" />\n",
       "  <line x1=\"0\" y1=\"101\" x2=\"29\" y2=\"101\" />\n",
       "  <line x1=\"0\" y1=\"108\" x2=\"29\" y2=\"108\" />\n",
       "  <line x1=\"0\" y1=\"113\" x2=\"29\" y2=\"113\" />\n",
       "  <line x1=\"0\" y1=\"120\" x2=\"29\" y2=\"120\" style=\"stroke-width:2\" />\n",
       "\n",
       "  <!-- Vertical lines -->\n",
       "  <line x1=\"0\" y1=\"0\" x2=\"0\" y2=\"120\" style=\"stroke-width:2\" />\n",
       "  <line x1=\"29\" y1=\"0\" x2=\"29\" y2=\"120\" style=\"stroke-width:2\" />\n",
       "\n",
       "  <!-- Colored Rectangle -->\n",
       "  <polygon points=\"0.0,0.0 29.48299404011291,0.0 29.48299404011291,120.0 0.0,120.0\" style=\"fill:#8B4903A0;stroke-width:0\"/>\n",
       "\n",
       "  <!-- Text -->\n",
       "  <text x=\"14.741497\" y=\"140.000000\" font-size=\"1.0rem\" font-weight=\"100\" text-anchor=\"middle\" >27998</text>\n",
       "  <text x=\"49.482994\" y=\"60.000000\" font-size=\"1.0rem\" font-weight=\"100\" text-anchor=\"middle\" transform=\"rotate(-90,49.482994,60.000000)\">1292537</text>\n",
       "</svg>\n",
       "        </td>\n",
       "    </tr>\n",
       "</table>"
      ],
      "text/plain": [
       "dask.array<getitem, shape=(1292537, 27998), dtype=float32, chunksize=(19789, 27998), chunktype=cupyx.csr_matrix>"
      ]
     },
     "execution_count": 10,
     "metadata": {},
     "output_type": "execute_result"
    }
   ],
   "source": [
    "adata.X"
   ]
  },
  {
   "cell_type": "markdown",
   "id": "ad15ca8b-672b-40e2-bc64-4df3c977da83",
   "metadata": {},
   "source": [
    "## **Log Normalization (Fully Lazy Execution)**  \n",
    "\n",
    "Next, we apply **log normalization** to scale gene expression values.  \n",
    "This step ensures that differences in sequencing depth across cells do not dominate downstream analysis.  "
   ]
  },
  {
   "cell_type": "code",
   "execution_count": 11,
   "id": "fdbe6f8f-9086-474b-9583-d85b9190593f",
   "metadata": {
    "tags": []
   },
   "outputs": [
    {
     "name": "stdout",
     "output_type": "stream",
     "text": [
      "CPU times: user 4.37 ms, sys: 220 μs, total: 4.59 ms\n",
      "Wall time: 4.16 ms\n"
     ]
    }
   ],
   "source": [
    "%%time\n",
    "rsc.pp.normalize_total(adata,target_sum = 10000)\n",
    "rsc.pp.log1p(adata)"
   ]
  },
  {
   "cell_type": "markdown",
   "id": "03588f87-4603-46f6-aa9a-1f16f05f1ac6",
   "metadata": {
    "tags": []
   },
   "source": [
    "## **Selecting Highly Variable Genes (Requires Synchronization)**  \n",
    "\n",
    "To focus on the most informative features, we identify **highly variable genes (HVGs)**  \n",
    "using the **Cell Ranger** method and subset the dataset accordingly.  \n",
    "\n",
    "**Important Considerations:**\n",
    "* Requires Synchronization → Computing highly variable genes triggers evaluation,\n",
    "meaning this step is not fully lazy when using Dask.\n",
    "* Copy is Essential → Using `.copy()` prevents views, ensuring the operation works properly with Dask-backed AnnData.\n"
   ]
  },
  {
   "cell_type": "code",
   "execution_count": 12,
   "id": "bb84f792-2b06-4bfa-8cca-3b4eaec042ea",
   "metadata": {
    "tags": []
   },
   "outputs": [
    {
     "name": "stdout",
     "output_type": "stream",
     "text": [
      "CPU times: user 282 ms, sys: 26.6 ms, total: 308 ms\n",
      "Wall time: 1.76 s\n"
     ]
    },
    {
     "name": "stderr",
     "output_type": "stream",
     "text": [
      "/opt/conda/lib/python3.12/site-packages/anndata/_core/anndata.py:1758: UserWarning: Variable names are not unique. To make them unique, call `.var_names_make_unique`.\n",
      "  utils.warn_names_duplicates(\"var\")\n"
     ]
    }
   ],
   "source": [
    "%%time\n",
    "rsc.pp.highly_variable_genes(adata,n_top_genes=5000, flavor=\"cell_ranger\")\n",
    "adata = adata[:,adata.var.highly_variable].copy()"
   ]
  },
  {
   "cell_type": "markdown",
   "id": "6c17487c-bd39-4cdd-9873-db2b8952efff",
   "metadata": {},
   "source": [
    "## **Scaling Gene Expression (Requires Synchronization)**  \n",
    "\n",
    "To standardize gene expression values, we apply **feature scaling**,  \n",
    "ensuring that all genes contribute equally to downstream analysis.\n",
    "\n",
    "**Important Considerations:**\n",
    "* Requires Synchronization → Since the input matrix is in CSR format (Compressed Sparse Row),\n",
    "this step forces an immediate computation, meaning it is not fully lazy like earlier transformations.\n",
    "* Scaling → Divides each gene’s expression values by its standard deviation.\n",
    "* zero_center=False → Keeps the scaled values non-centered,\n",
    "which is beneficial for sparse matrices and GPU acceleration.\n"
   ]
  },
  {
   "cell_type": "code",
   "execution_count": 14,
   "id": "ab10f1e1-2fe5-4f5d-aa9d-1357d2d55a49",
   "metadata": {
    "scrolled": true
   },
   "outputs": [
    {
     "name": "stdout",
     "output_type": "stream",
     "text": [
      "CPU times: user 247 ms, sys: 21.7 ms, total: 269 ms\n",
      "Wall time: 1.76 s\n"
     ]
    }
   ],
   "source": [
    "%%time\n",
    "rsc.pp.scale(adata, zero_center= False)"
   ]
  },
  {
   "cell_type": "markdown",
   "id": "c4c116d8-05cf-4efb-a25d-726e0c0f6c3f",
   "metadata": {},
   "source": [
    "## **Principal Component Analysis (PCA) on GPU (Two-Step Synchronization Process)**  \n",
    "\n",
    "To reduce dimensionality while preserving meaningful variation,  \n",
    "we perform **Principal Component Analysis (PCA)** using **GPU acceleration**.\n",
    "\n",
    "Understanding the Two-Step Synchronization in PCA:\n",
    "1. Mandatory Synchronization for Covariance & Mean Calculation\n",
    "    * PCA requires computing the covariance matrix and mean vector,\n",
    "    which must be explicitly synchronized before proceeding.\n",
    "    * This step is handled automatically within `rsc.pp.pca()`.\n",
    "\n",
    "2. Finalizing the Transformation with `.compute()`\n",
    "    * After computing the principal components, the data remains lazy (Dask CuPy array).\n",
    "    * Calling `.compute()` on `adata.obsm[\"X_pca\"]` performs the final transformation,\n",
    "      projecting the data onto the computed PCs and materializing the result as a fully computed CuPy array.\n",
    "\n",
    "**Why This Matters?**\n",
    "* The first synchronization (**covariance & mean**) ensures the PCA model is ready.\n",
    "* The second synchronization (`compute()`) ensures that the transformed data is fully realized\n",
    "for downstream analyses like clustering and UMAP."
   ]
  },
  {
   "cell_type": "code",
   "execution_count": 15,
   "id": "b525a19c-6ed6-4e2c-a249-c4fc536862bb",
   "metadata": {
    "scrolled": true,
    "tags": []
   },
   "outputs": [
    {
     "name": "stdout",
     "output_type": "stream",
     "text": [
      "CPU times: user 1.08 s, sys: 757 ms, total: 1.83 s\n",
      "Wall time: 4.05 s\n"
     ]
    }
   ],
   "source": [
    "%%time\n",
    "rsc.pp.pca(adata, n_comps = 100,mask_var=None)\n",
    "adata.obsm[\"X_pca\"]=adata.obsm[\"X_pca\"].compute()"
   ]
  },
  {
   "cell_type": "code",
   "execution_count": null,
   "id": "64be177a-6fbf-4805-9776-d18a661851ad",
   "metadata": {},
   "outputs": [],
   "source": []
  }
 ],
 "metadata": {
  "kernelspec": {
   "display_name": "Python 3 (ipykernel)",
   "language": "python",
   "name": "python3"
  },
  "language_info": {
   "codemirror_mode": {
    "name": "ipython",
    "version": 3
   },
   "file_extension": ".py",
   "mimetype": "text/x-python",
   "name": "python",
   "nbconvert_exporter": "python",
   "pygments_lexer": "ipython3",
   "version": "3.12.7"
  }
 },
 "nbformat": 4,
 "nbformat_minor": 5
}
