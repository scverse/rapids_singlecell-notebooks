{
 "cells": [
  {
   "cell_type": "markdown",
   "id": "gothic-graduate",
   "metadata": {},
   "source": [
    "# Setup of the AnnData object\n",
    "**Author:** [Severin Dicks](https://github.com/Intron7)\n",
    "**Copyright** [scverse](https://scverse.org)"
   ]
  },
  {
   "cell_type": "markdown",
   "id": "running-recipe",
   "metadata": {},
   "source": [
    "This notebook handles the download and storage of AnnData objects required for the rapids-singlecell tutorials.\n",
    "\n",
    "We will:\n",
    "- **Download example datasets** from online repositories\n",
    "- **Save the AnnData objects** locally for subsequent analysis\n",
    "\n",
    "This setup ensures all required data is available locally before proceeding with GPU-accelerated analysis workflows."
   ]
  },
  {
   "cell_type": "code",
   "execution_count": 1,
   "id": "c544c54c-4134-4aed-b1ff-87b2ebad540b",
   "metadata": {},
   "outputs": [],
   "source": [
    "import os\n",
    "import anndata as ad\n",
    "import wget\n",
    "import scanpy as sc\n",
    "os.makedirs(\"./h5\",exist_ok=True)"
   ]
  },
  {
   "cell_type": "code",
   "execution_count": 2,
   "id": "coral-paraguay",
   "metadata": {},
   "outputs": [
    {
     "data": {
      "text/plain": [
       "'./h5/adata.raw.h5ad'"
      ]
     },
     "execution_count": 2,
     "metadata": {},
     "output_type": "execute_result"
    }
   ],
   "source": [
    "wget.download('https://figshare.com/ndownloader/files/45788454',\n",
    "              \"./h5/adata.raw.h5ad\")"
   ]
  },
  {
   "cell_type": "code",
   "execution_count": 2,
   "id": "9c2ed636-d795-4e08-b1f2-934e394ba517",
   "metadata": {},
   "outputs": [],
   "source": [
    "import cellxgene_census\n",
    "CENSUS_VERSION = \"2025-01-30\"\n",
    "with cellxgene_census.open_soma(census_version=CENSUS_VERSION) as census:\n",
    "    adata = cellxgene_census.get_anndata(census, \"Homo sapiens\",\n",
    "            obs_value_filter='dataset_id==\"ae29ebd0-1973-40a4-a6af-d15a5f77a80f\"',\n",
    "        )\n",
    "adata= adata[adata.obs[\"assay\"].isin([\"10x 3' v3\", \"10x 5' v1\", \"10x 5' v2\"])].copy()\n",
    "adata.write(\"h5/dli_census.h5ad\")"
   ]
  },
  {
   "cell_type": "code",
   "execution_count": 2,
   "id": "d3472f4a-9f39-4636-bb90-bb5726ebacf8",
   "metadata": {},
   "outputs": [
    {
     "name": "stdout",
     "output_type": "stream",
     "text": [
      "100% [....................................................................] 5652968495 / 5652968495"
     ]
    },
    {
     "data": {
      "text/plain": [
       "'h5/nvidia_1.3M (1).h5ad'"
      ]
     },
     "execution_count": 2,
     "metadata": {},
     "output_type": "execute_result"
    }
   ],
   "source": [
    "wget.download('https://rapids-single-cell-examples.s3.us-east-2.amazonaws.com/1M_brain_cells_10X.sparse.h5ad',\n",
    "              \"h5/nvidia_1.3M.h5ad\")"
   ]
  },
  {
   "cell_type": "code",
   "execution_count": null,
   "id": "bdf555c9",
   "metadata": {},
   "outputs": [],
   "source": [
    "from packaging.version import parse as parse_version\n",
    "\n",
    "if parse_version(ad.__version__) < parse_version(\"0.12.0rc1\"):\n",
    "    from anndata.experimental import read_elem_as_dask as read_dask\n",
    "else:\n",
    "    from anndata.experimental import read_elem_lazy as read_dask"
   ]
  },
  {
   "cell_type": "code",
   "execution_count": 3,
   "id": "feff0b92-7343-4fb4-a37e-1ed62978cd31",
   "metadata": {},
   "outputs": [
    {
     "name": "stderr",
     "output_type": "stream",
     "text": [
      "/home/intron/micromamba/envs/rapids-24.12/lib/python3.12/site-packages/anndata/_core/anndata.py:1758: UserWarning: Variable names are not unique. To make them unique, call `.var_names_make_unique`.\n",
      "  utils.warn_names_duplicates(\"var\")\n"
     ]
    }
   ],
   "source": [
    "import h5py\n",
    "\n",
    "SPARSE_CHUNK_SIZE = 20_000\n",
    "data_pth = \"h5/nvidia_1.3M.h5ad\"\n",
    "\n",
    "\n",
    "f = h5py.File(data_pth)\n",
    "X = f[\"X\"]\n",
    "shape = X.attrs[\"shape\"]\n",
    "adata = ad.AnnData(\n",
    "    X = read_dask(X, (SPARSE_CHUNK_SIZE, shape[1])),\n",
    "    obs = ad.io.read_elem(f[\"obs\"]),\n",
    "    var = ad.io.read_elem(f[\"var\"]))\n",
    "f.close()\n",
    "\n",
    "adata.write_zarr(\"zarr/nvidia_1.3M.zarr\")"
   ]
  },
  {
   "cell_type": "code",
   "execution_count": 11,
   "id": "8c1484b2-7075-4192-9c85-6768e5af9670",
   "metadata": {},
   "outputs": [
    {
     "name": "stdout",
     "output_type": "stream",
     "text": [
      "100% [..................................................................] 46534275253 / 46534275253"
     ]
    },
    {
     "data": {
      "text/plain": [
       "'h5/cell_atlas.h5ad'"
      ]
     },
     "execution_count": 11,
     "metadata": {},
     "output_type": "execute_result"
    }
   ],
   "source": [
    "wget.download('https://datasets.cellxgene.cziscience.com/3817734b-0f82-433b-8c38-55b214200fff.h5ad',\n",
    "              \"h5/cell_atlas.h5ad\")"
   ]
  },
  {
   "cell_type": "code",
   "execution_count": 14,
   "id": "7d9933fc-48b8-4b1b-aa6b-433d088874f1",
   "metadata": {},
   "outputs": [],
   "source": [
    "from anndata.experimental import read_elem_as_dask\n",
    "\n",
    "import h5py\n",
    "\n",
    "SPARSE_CHUNK_SIZE = 20_000\n",
    "data_pth = \"h5/cell_atlas.h5ad\"\n",
    "\n",
    "\n",
    "f = h5py.File(data_pth)\n",
    "X = f[\"X\"]\n",
    "shape = X.attrs[\"shape\"]\n",
    "adata = ad.AnnData(\n",
    "    X = read_dask(X, (SPARSE_CHUNK_SIZE, shape[1])),\n",
    "    obs = ad.io.read_elem(f[\"obs\"]),\n",
    "    var = ad.io.read_elem(f[\"var\"]))\n",
    "f.close()\n",
    "\n",
    "adata.write_zarr(\"zarr/cell_atlas.zarr\")"
   ]
  },
  {
   "cell_type": "code",
   "execution_count": null,
   "id": "c3ffd9ca-7522-4464-8fa1-328db3c6a4e4",
   "metadata": {},
   "outputs": [],
   "source": []
  }
 ],
 "metadata": {
  "interpreter": {
   "hash": "b70383e23f09abfebb324225aa0a73f4c8adec9f01b8b9679b19e76c26fcd2e4"
  },
  "kernelspec": {
   "display_name": "Python 3 (ipykernel)",
   "language": "python",
   "name": "python3"
  },
  "language_info": {
   "codemirror_mode": {
    "name": "ipython",
    "version": 3
   },
   "file_extension": ".py",
   "mimetype": "text/x-python",
   "name": "python",
   "nbconvert_exporter": "python",
   "pygments_lexer": "ipython3",
   "version": "3.12.8"
  }
 },
 "nbformat": 4,
 "nbformat_minor": 5
}
